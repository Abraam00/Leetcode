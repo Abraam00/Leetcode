{
 "cells": [
  {
   "cell_type": "code",
   "execution_count": 25,
   "metadata": {},
   "outputs": [
    {
     "data": {
      "text/plain": [
       "False"
      ]
     },
     "execution_count": 25,
     "metadata": {},
     "output_type": "execute_result"
    }
   ],
   "source": [
    "def isValid(s):\n",
    "    stack=[]\n",
    "    for i in s:\n",
    "        if stack:\n",
    "            if i==')' and stack[-1] == \"(\":\n",
    "                stack.pop()\n",
    "            elif i==']' and stack[-1] == \"[\":\n",
    "                stack.pop()\n",
    "            elif i=='}' and stack[-1] == \"{\":\n",
    "                stack.pop()\n",
    "            else:\n",
    "                stack.append(i)\n",
    "        else:\n",
    "            stack.append(i)\n",
    "    return len(stack)==0\n",
    "\n",
    "n = '}[]{}('\n",
    "isValid(n)"
   ]
  }
 ],
 "metadata": {
  "kernelspec": {
   "display_name": "Python 3.10.5 64-bit",
   "language": "python",
   "name": "python3"
  },
  "language_info": {
   "codemirror_mode": {
    "name": "ipython",
    "version": 3
   },
   "file_extension": ".py",
   "mimetype": "text/x-python",
   "name": "python",
   "nbconvert_exporter": "python",
   "pygments_lexer": "ipython3",
   "version": "3.10.5"
  },
  "orig_nbformat": 4,
  "vscode": {
   "interpreter": {
    "hash": "aee8b7b246df8f9039afb4144a1f6fd8d2ca17a180786b69acc140d282b71a49"
   }
  }
 },
 "nbformat": 4,
 "nbformat_minor": 2
}
