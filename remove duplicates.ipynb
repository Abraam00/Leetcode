{
 "cells": [
  {
   "cell_type": "code",
   "execution_count": 29,
   "metadata": {},
   "outputs": [
    {
     "name": "stdout",
     "output_type": "stream",
     "text": [
      "4 [1, 2, 3, 4, '_', '_', '_']\n"
     ]
    }
   ],
   "source": [
    "nums = [1,1,1,2,3,4,4]\n",
    "test = 0\n",
    "for n in range(len(nums)):\n",
    "    if(nums[n] != \"_\"):\n",
    "        test = nums[n]\n",
    "    if( n+1 < len(nums) and nums[n+1] == test):\n",
    "        nums[n+1] = \"_\"\n",
    "        \n",
    "def custom_sort(item):\n",
    "    if isinstance(item, int):\n",
    "        return 0\n",
    "    else:\n",
    "        return 1\n",
    "nums = sorted(nums, key = custom_sort)\n",
    "counter = 0\n",
    "for n in nums:\n",
    "    if n == \"_\":\n",
    "        break\n",
    "    counter +=1\n",
    "\n",
    "print(counter-1,nums)"
   ]
  }
 ],
 "metadata": {
  "kernelspec": {
   "display_name": "Python 3.10.5 64-bit",
   "language": "python",
   "name": "python3"
  },
  "language_info": {
   "codemirror_mode": {
    "name": "ipython",
    "version": 3
   },
   "file_extension": ".py",
   "mimetype": "text/x-python",
   "name": "python",
   "nbconvert_exporter": "python",
   "pygments_lexer": "ipython3",
   "version": "3.10.5"
  },
  "orig_nbformat": 4,
  "vscode": {
   "interpreter": {
    "hash": "aee8b7b246df8f9039afb4144a1f6fd8d2ca17a180786b69acc140d282b71a49"
   }
  }
 },
 "nbformat": 4,
 "nbformat_minor": 2
}
