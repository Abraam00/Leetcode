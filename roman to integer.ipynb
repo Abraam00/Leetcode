{
 "cells": [
  {
   "cell_type": "code",
   "execution_count": 46,
   "metadata": {},
   "outputs": [
    {
     "name": "stdout",
     "output_type": "stream",
     "text": [
      "4\n"
     ]
    }
   ],
   "source": [
    "# looping the string from left to right and keeping track of the most recent character and roman sum\n",
    "# if the current character is bigger than the previous, substract them and add the result to the old roman sum\n",
    "\n",
    "ref = {'I':1, 'V':5, 'X':10, 'L':50, 'C':100, 'D':500, 'M':1000}\n",
    "s = \"IV\"\n",
    "roman = 0\n",
    "temp = 0\n",
    "temp2 = 0\n",
    "for c in s:\n",
    "    if ref[c] > temp:\n",
    "        roman = temp2 + ref[c] - temp\n",
    "    else:\n",
    "        temp2 = roman\n",
    "        roman = roman + ref[c]\n",
    "    temp = ref[c]\n",
    "\n",
    "print(roman)"
   ]
  },
  {
   "cell_type": "code",
   "execution_count": 48,
   "metadata": {},
   "outputs": [
    {
     "name": "stdout",
     "output_type": "stream",
     "text": [
      "3\n"
     ]
    }
   ],
   "source": [
    "# looping through the string using int\n",
    "# checking to see if we will be out of bounds and if not then checking if the next number is bigger than the current\n",
    "# if so, we substract it from the roman sum.\n",
    "\n",
    "ref = {'I':1, 'V':5, 'X':10, 'L':50, 'C':100, 'D':500, 'M':1000}\n",
    "s = \"IV\"\n",
    "roman = 0\n",
    "for i in range(len(s)):\n",
    "    if i+1 < len(s) and ref[s[i]] < ref[s[i+1]]:\n",
    "        roman -= ref[s[i]]\n",
    "    else:\n",
    "        roman += ref[s[i]]\n",
    "print(roman)"
   ]
  }
 ],
 "metadata": {
  "kernelspec": {
   "display_name": "Python 3.10.5 64-bit",
   "language": "python",
   "name": "python3"
  },
  "language_info": {
   "codemirror_mode": {
    "name": "ipython",
    "version": 3
   },
   "file_extension": ".py",
   "mimetype": "text/x-python",
   "name": "python",
   "nbconvert_exporter": "python",
   "pygments_lexer": "ipython3",
   "version": "3.10.5"
  },
  "orig_nbformat": 4,
  "vscode": {
   "interpreter": {
    "hash": "aee8b7b246df8f9039afb4144a1f6fd8d2ca17a180786b69acc140d282b71a49"
   }
  }
 },
 "nbformat": 4,
 "nbformat_minor": 2
}
