{
 "cells": [
  {
   "cell_type": "code",
   "execution_count": 1,
   "metadata": {},
   "outputs": [
    {
     "ename": "TypeError",
     "evalue": "'int' object is not iterable",
     "output_type": "error",
     "traceback": [
      "\u001b[0;31m---------------------------------------------------------------------------\u001b[0m",
      "\u001b[0;31mTypeError\u001b[0m                                 Traceback (most recent call last)",
      "\u001b[1;32m/Users/abraamyoussef/Desktop/leetcode/Minimum Cost.ipynb Cell 1\u001b[0m in \u001b[0;36m<cell line: 10>\u001b[0;34m()\u001b[0m\n\u001b[1;32m      <a href='vscode-notebook-cell:/Users/abraamyoussef/Desktop/leetcode/Minimum%20Cost.ipynb#ch0000000?line=6'>7</a>\u001b[0m     \u001b[39mreturn\u001b[39;00m edges\n\u001b[1;32m      <a href='vscode-notebook-cell:/Users/abraamyoussef/Desktop/leetcode/Minimum%20Cost.ipynb#ch0000000?line=8'>9</a>\u001b[0m cost \u001b[39m=\u001b[39m [\u001b[39m4\u001b[39m,\u001b[39m3\u001b[39m,\u001b[39m9\u001b[39m,\u001b[39m3\u001b[39m,\u001b[39m1\u001b[39m]\n\u001b[0;32m---> <a href='vscode-notebook-cell:/Users/abraamyoussef/Desktop/leetcode/Minimum%20Cost.ipynb#ch0000000?line=9'>10</a>\u001b[0m \u001b[39mprint\u001b[39m(generate_edges(cost))\n",
      "\u001b[1;32m/Users/abraamyoussef/Desktop/leetcode/Minimum Cost.ipynb Cell 1\u001b[0m in \u001b[0;36mgenerate_edges\u001b[0;34m(graph)\u001b[0m\n\u001b[1;32m      <a href='vscode-notebook-cell:/Users/abraamyoussef/Desktop/leetcode/Minimum%20Cost.ipynb#ch0000000?line=1'>2</a>\u001b[0m edges \u001b[39m=\u001b[39m []\n\u001b[1;32m      <a href='vscode-notebook-cell:/Users/abraamyoussef/Desktop/leetcode/Minimum%20Cost.ipynb#ch0000000?line=2'>3</a>\u001b[0m \u001b[39mfor\u001b[39;00m node \u001b[39min\u001b[39;00m graph:\n\u001b[0;32m----> <a href='vscode-notebook-cell:/Users/abraamyoussef/Desktop/leetcode/Minimum%20Cost.ipynb#ch0000000?line=3'>4</a>\u001b[0m     \u001b[39mfor\u001b[39;00m neighbour \u001b[39min\u001b[39;00m graph[node]:\n\u001b[1;32m      <a href='vscode-notebook-cell:/Users/abraamyoussef/Desktop/leetcode/Minimum%20Cost.ipynb#ch0000000?line=4'>5</a>\u001b[0m         edges\u001b[39m.\u001b[39mappend({node, neighbour})\n\u001b[1;32m      <a href='vscode-notebook-cell:/Users/abraamyoussef/Desktop/leetcode/Minimum%20Cost.ipynb#ch0000000?line=6'>7</a>\u001b[0m \u001b[39mreturn\u001b[39;00m edges\n",
      "\u001b[0;31mTypeError\u001b[0m: 'int' object is not iterable"
     ]
    }
   ],
   "source": [
    "def generate_edges(graph):\n",
    "    edges = []\n",
    "    for node in graph:\n",
    "        for neighbour in graph[node]:\n",
    "            edges.append({node, neighbour})\n",
    "\n",
    "    return edges\n",
    "\n",
    "cost = [4,3,9,3,1]\n",
    "print(generate_edges(cost))"
   ]
  }
 ],
 "metadata": {
  "kernelspec": {
   "display_name": "Python 3.10.5 64-bit",
   "language": "python",
   "name": "python3"
  },
  "language_info": {
   "codemirror_mode": {
    "name": "ipython",
    "version": 3
   },
   "file_extension": ".py",
   "mimetype": "text/x-python",
   "name": "python",
   "nbconvert_exporter": "python",
   "pygments_lexer": "ipython3",
   "version": "3.10.5"
  },
  "orig_nbformat": 4,
  "vscode": {
   "interpreter": {
    "hash": "aee8b7b246df8f9039afb4144a1f6fd8d2ca17a180786b69acc140d282b71a49"
   }
  }
 },
 "nbformat": 4,
 "nbformat_minor": 2
}
