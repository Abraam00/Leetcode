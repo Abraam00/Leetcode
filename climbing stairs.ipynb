{
 "cells": [
  {
   "cell_type": "code",
   "execution_count": 46,
   "metadata": {},
   "outputs": [
    {
     "name": "stdout",
     "output_type": "stream",
     "text": [
      "0\n",
      "1\n"
     ]
    },
    {
     "data": {
      "text/plain": [
       "3"
      ]
     },
     "execution_count": 46,
     "metadata": {},
     "output_type": "execute_result"
    }
   ],
   "source": [
    "# dynamic programming solution\n",
    "# starting an array with the target number (n). The possibilities of the first two steps are both 1.\n",
    "# everytime we move down till we reach zero we sum the previous two possible steps since we can move 1 or 2 steps at time\n",
    "\n",
    "def climbStairs(n):\n",
    "    one = 1\n",
    "    two = 1\n",
    "    for i in range(n-1):\n",
    "        temp = one\n",
    "        one = one + two\n",
    "        two = temp\n",
    "    return one\n",
    "climbStairs(3)"
   ]
  },
  {
   "cell_type": "code",
   "execution_count": 45,
   "metadata": {},
   "outputs": [
    {
     "name": "stdout",
     "output_type": "stream",
     "text": [
      "3\n"
     ]
    }
   ],
   "source": [
    "# getting the n+1 fibonacci number is the solution to the number of ways to reach (n)\n",
    "# the only odd case would be n = 1\n",
    "import math\n",
    "n = 3\n",
    "if n==1:\n",
    "    ans = 1\n",
    "else:\n",
    "    ans = (1/math.sqrt(5) * (math.pow((1+ math.sqrt(5))/2, n+1)) - (1/math.sqrt(5) * (math.pow((1 - math.sqrt(5))/2, n+1))))\n",
    "print(math.trunc(ans))"
   ]
  }
 ],
 "metadata": {
  "kernelspec": {
   "display_name": "Python 3.10.5 64-bit",
   "language": "python",
   "name": "python3"
  },
  "language_info": {
   "codemirror_mode": {
    "name": "ipython",
    "version": 3
   },
   "file_extension": ".py",
   "mimetype": "text/x-python",
   "name": "python",
   "nbconvert_exporter": "python",
   "pygments_lexer": "ipython3",
   "version": "3.10.5"
  },
  "orig_nbformat": 4,
  "vscode": {
   "interpreter": {
    "hash": "aee8b7b246df8f9039afb4144a1f6fd8d2ca17a180786b69acc140d282b71a49"
   }
  }
 },
 "nbformat": 4,
 "nbformat_minor": 2
}
