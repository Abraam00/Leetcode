{
 "cells": [
  {
   "cell_type": "code",
   "execution_count": 68,
   "metadata": {},
   "outputs": [
    {
     "name": "stdout",
     "output_type": "stream",
     "text": [
      "1\n"
     ]
    }
   ],
   "source": [
    "s = \"aab\"\n",
    "counter = 0\n",
    "temp = 0\n",
    "l = []\n",
    "arr = [a for a in s]\n",
    "for i in range(len(arr)):\n",
    "    if arr[i] not in l:\n",
    "        counter+=1\n",
    "        l.append(arr[i])\n",
    "    else:\n",
    "        l.clear()\n",
    "        l.append(arr[i])\n",
    "        if counter >= temp:\n",
    "            temp = counter\n",
    "            if counter >= 1:\n",
    "                counter = 1\n",
    "# if len(l) == len(arr):\n",
    "#     print(counter)\n",
    "# else:\n",
    "print(temp)\n",
    "        "
   ]
  }
 ],
 "metadata": {
  "kernelspec": {
   "display_name": "Python 3.10.5 64-bit",
   "language": "python",
   "name": "python3"
  },
  "language_info": {
   "name": "python",
   "version": "3.10.5"
  },
  "orig_nbformat": 4,
  "vscode": {
   "interpreter": {
    "hash": "aee8b7b246df8f9039afb4144a1f6fd8d2ca17a180786b69acc140d282b71a49"
   }
  }
 },
 "nbformat": 4,
 "nbformat_minor": 2
}
