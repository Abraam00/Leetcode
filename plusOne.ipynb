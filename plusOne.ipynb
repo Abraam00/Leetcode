{
 "cells": [
  {
   "cell_type": "code",
   "execution_count": 14,
   "metadata": {},
   "outputs": [
    {
     "name": "stdout",
     "output_type": "stream",
     "text": [
      "[3, 0, 0]\n"
     ]
    }
   ],
   "source": [
    "x = [2,9,9]\n",
    "x[-1] += 1\n",
    "for i in range(len(x)):\n",
    "    if x[-i] == 10:\n",
    "        if len(x) == 1 and x[0] == 10:\n",
    "            break\n",
    "        x[-i] = 0\n",
    "        x[-i-1] += 1\n",
    "if x[0] == 10:\n",
    "    x[0] = 1\n",
    "    x.insert(1,0)\n",
    "print(x)"
   ]
  }
 ],
 "metadata": {
  "kernelspec": {
   "display_name": "Python 3.10.5 64-bit",
   "language": "python",
   "name": "python3"
  },
  "language_info": {
   "codemirror_mode": {
    "name": "ipython",
    "version": 3
   },
   "file_extension": ".py",
   "mimetype": "text/x-python",
   "name": "python",
   "nbconvert_exporter": "python",
   "pygments_lexer": "ipython3",
   "version": "3.10.5"
  },
  "orig_nbformat": 4,
  "vscode": {
   "interpreter": {
    "hash": "aee8b7b246df8f9039afb4144a1f6fd8d2ca17a180786b69acc140d282b71a49"
   }
  }
 },
 "nbformat": 4,
 "nbformat_minor": 2
}
