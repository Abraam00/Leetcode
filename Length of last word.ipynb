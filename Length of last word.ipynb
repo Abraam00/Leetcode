{
 "cells": [
  {
   "cell_type": "code",
   "execution_count": 16,
   "metadata": {},
   "outputs": [
    {
     "name": "stdout",
     "output_type": "stream",
     "text": [
      "5\n"
     ]
    }
   ],
   "source": [
    "from curses.ascii import isalpha\n",
    "s = \"Hello world  \"\n",
    "counter = 0\n",
    "for c in s[::-1]:\n",
    "    if c.isalpha():\n",
    "        counter+=1\n",
    "    elif c == \" \" and counter != 0:\n",
    "        break\n",
    "        \n",
    "print(counter)\n"
   ]
  },
  {
   "cell_type": "code",
   "execution_count": 18,
   "metadata": {},
   "outputs": [
    {
     "name": "stdout",
     "output_type": "stream",
     "text": [
      "5\n"
     ]
    }
   ],
   "source": [
    "# another solution\n",
    "s = \"  Hello World \"\n",
    "counter = 0 \n",
    "# strip removes any leading or trailing spaces from a string\n",
    "st = s.strip() \n",
    "for c in st[::-1]:\n",
    "    if c == \" \":\n",
    "        break\n",
    "    counter+=1\n",
    "print(counter)"
   ]
  }
 ],
 "metadata": {
  "kernelspec": {
   "display_name": "Python 3.10.5 64-bit",
   "language": "python",
   "name": "python3"
  },
  "language_info": {
   "codemirror_mode": {
    "name": "ipython",
    "version": 3
   },
   "file_extension": ".py",
   "mimetype": "text/x-python",
   "name": "python",
   "nbconvert_exporter": "python",
   "pygments_lexer": "ipython3",
   "version": "3.10.5"
  },
  "orig_nbformat": 4,
  "vscode": {
   "interpreter": {
    "hash": "aee8b7b246df8f9039afb4144a1f6fd8d2ca17a180786b69acc140d282b71a49"
   }
  }
 },
 "nbformat": 4,
 "nbformat_minor": 2
}
